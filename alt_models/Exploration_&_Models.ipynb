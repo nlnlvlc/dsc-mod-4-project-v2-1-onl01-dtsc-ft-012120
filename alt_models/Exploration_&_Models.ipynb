{
  "nbformat": 4,
  "nbformat_minor": 0,
  "metadata": {
    "kernelspec": {
      "display_name": "Python 3",
      "language": "python",
      "name": "python3"
    },
    "language_info": {
      "codemirror_mode": {
        "name": "ipython",
        "version": 3
      },
      "file_extension": ".py",
      "mimetype": "text/x-python",
      "name": "python",
      "nbconvert_exporter": "python",
      "pygments_lexer": "ipython3",
      "version": "3.6.9"
    },
    "colab": {
      "name": "Exploration & Models.ipynb",
      "provenance": [],
      "collapsed_sections": [
        "zYX3h4JQ_Lfd"
      ],
      "machine_shape": "hm"
    }
  },
  "cells": [
    {
      "cell_type": "code",
      "metadata": {
        "id": "Tsiw7zoz_LcP"
      },
      "source": [
        "import os, shutil\n",
        "import matplotlib.pyplot as plt\n",
        "import numpy as np\n",
        "\n",
        "# visualization libraries\n",
        "from PIL import Image\n",
        "from keras.utils import plot_model\n",
        "from IPython.display import Image \n",
        "\n",
        "# preprocessing\n",
        "from keras.preprocessing.image import ImageDataGenerator, array_to_img, img_to_array, load_img\n",
        "\n",
        "# modelling\n",
        "import keras\n",
        "import tensorflow as tf\n",
        "from keras import layers\n",
        "from keras import models\n",
        "from keras import utils\n",
        "from keras import optimizers\n",
        "from keras.models import Sequential\n",
        "from keras.losses import categorical_crossentropy, binary_crossentropy\n",
        "from keras.optimizers import SGD, Adam\n",
        "# from keras.applications.vgg19 import VGG19\n",
        "from keras import losses\n",
        "from keras.layers import Activation, BatchNormalization, Conv2D, Dense, Dropout, Flatten, MaxPooling2D\n",
        "import math \n",
        "\n",
        "# callbacks\n",
        "from keras.callbacks import History\n",
        "\n",
        "\n",
        "# Surpress warnings\n",
        "import warnings\n",
        "warnings.filterwarnings('ignore')"
      ],
      "execution_count": 1,
      "outputs": []
    },
    {
      "cell_type": "code",
      "metadata": {
        "id": "PGqVQ0Kh_UuI",
        "outputId": "2312b0ac-a421-43dd-d2fd-b29f15619957",
        "colab": {
          "base_uri": "https://localhost:8080/",
          "height": 55
        }
      },
      "source": [
        "#access directories through Google Drive\n",
        "from google.colab import drive\n",
        "drive.mount('/content/gdrive')"
      ],
      "execution_count": 2,
      "outputs": [
        {
          "output_type": "stream",
          "text": [
            "Drive already mounted at /content/gdrive; to attempt to forcibly remount, call drive.mount(\"/content/gdrive\", force_remount=True).\n"
          ],
          "name": "stdout"
        }
      ]
    },
    {
      "cell_type": "code",
      "metadata": {
        "id": "Z82JLcgb_aJP"
      },
      "source": [
        "np.random.seed(0)\n",
        "root_dir = \"/content/gdrive/My Drive/Colab Notebooks/pneumonal_xray_classification/chest_xray/\""
      ],
      "execution_count": 3,
      "outputs": []
    },
    {
      "cell_type": "markdown",
      "metadata": {
        "id": "15miZrr8_LcW"
      },
      "source": [
        "## Importing & Exploring Data"
      ]
    },
    {
      "cell_type": "code",
      "metadata": {
        "id": "nxydsGbA_Lca"
      },
      "source": [
        "train_folder = os.path.join(root_dir, 'train')\n",
        "test_folder = os.path.join(root_dir, 'test')\n",
        "val_folder = os.path.join(root_dir, 'val')"
      ],
      "execution_count": 4,
      "outputs": []
    },
    {
      "cell_type": "code",
      "metadata": {
        "id": "X5M_stiz_Lcd",
        "outputId": "e9b01e1a-3ccd-41c1-d98a-3635f5bd380b",
        "colab": {
          "base_uri": "https://localhost:8080/",
          "height": 72
        }
      },
      "source": [
        "# train_datagen = ImageDataGenerator(\n",
        "#         rescale=1./255,\n",
        "#         shear_range=0.2,\n",
        "#         zoom_range=0.3,\n",
        "#         rotation_range=15,\n",
        "#         horizontal_flip=True,\n",
        "#         vertical_flip=True,\n",
        "#         #validation_split = 0.2\n",
        "# )\n",
        "\n",
        "# get all the data in the directory /train and reshape them\n",
        "train_generator = ImageDataGenerator(\n",
        "        rescale=1./255,\n",
        "        shear_range=0.2,\n",
        "        zoom_range=0.3,\n",
        "        rotation_range=15,\n",
        "        horizontal_flip=True,\n",
        "        vertical_flip=True,\n",
        "        #validation_split = 0.2\n",
        " ).flow_from_directory(\n",
        "        train_folder, \n",
        "        target_size=(256, 256), \n",
        "        batch_size=1000)\n",
        " \n",
        "# get all the data in the directory /test and reshape them\n",
        "test_generator = ImageDataGenerator(rescale=1./255).flow_from_directory(\n",
        "        test_folder, \n",
        "        target_size=(256, 256), \n",
        "        batch_size = 200) \n",
        "\n",
        "# get all the data in the directory /val and reshape them\n",
        "val_generator = ImageDataGenerator(rescale=1./255).flow_from_directory(\n",
        "        val_folder, \n",
        "        target_size=(256, 256), \n",
        "        batch_size = 16)\n"
      ],
      "execution_count": 5,
      "outputs": [
        {
          "output_type": "stream",
          "text": [
            "Found 2713 images belonging to 2 classes.\n",
            "Found 624 images belonging to 2 classes.\n",
            "Found 16 images belonging to 2 classes.\n"
          ],
          "name": "stdout"
        }
      ]
    },
    {
      "cell_type": "code",
      "metadata": {
        "id": "qIoQNIGm_Lch"
      },
      "source": [
        "train_images, train_labels = next(train_generator)\n",
        "test_images, test_labels = next(test_generator)\n",
        "val_images, val_labels = next(val_generator)"
      ],
      "execution_count": 6,
      "outputs": []
    },
    {
      "cell_type": "code",
      "metadata": {
        "id": "NxqIZ7Ri_Lck",
        "outputId": "caabd354-82e1-4a43-93ca-aa6e983e86c7",
        "colab": {
          "base_uri": "https://localhost:8080/",
          "height": 273
        }
      },
      "source": [
        "#preview training image\n",
        "array_to_img(train_images[1])"
      ],
      "execution_count": 7,
      "outputs": [
        {
          "output_type": "execute_result",
          "data": {
            "image/png": "[encoded data removed]",
            "text/plain": [
              "<PIL.Image.Image image mode=RGB size=256x256 at 0x7F0DDDDB6550>"
            ]
          },
          "metadata": {
            "tags": []
          },
          "execution_count": 7
        }
      ]
    },
    {
      "cell_type": "code",
      "metadata": {
        "id": "08H7SdeK_Lcn"
      },
      "source": [
        "#preview training image\n",
        "# array_to_img(train_images[104])"
      ],
      "execution_count": 8,
      "outputs": []
    },
    {
      "cell_type": "code",
      "metadata": {
        "id": "CmrQ69Qe_Lcq",
        "outputId": "a522e1fd-5925-482c-beee-426e500cdb23",
        "colab": {
          "base_uri": "https://localhost:8080/",
          "height": 90
        }
      },
      "source": [
        "# get shape of images in train and test\n",
        "\n",
        "print(np.shape(train_images))\n",
        "print(np.shape(train_labels))\n",
        "print(np.shape(test_images))\n",
        "print(np.shape(test_labels))\n"
      ],
      "execution_count": 9,
      "outputs": [
        {
          "output_type": "stream",
          "text": [
            "(1000, 256, 256, 3)\n",
            "(1000, 2)\n",
            "(200, 256, 256, 3)\n",
            "(200, 2)\n"
          ],
          "name": "stdout"
        }
      ]
    },
    {
      "cell_type": "markdown",
      "metadata": {
        "id": "VMRWevlX_Lct"
      },
      "source": [
        "All images share the same dimensions, so we don't have to worry about losing any additional information by transforming and resizing the images to fit. We can go directly into refitting the test and training images from tensors to a single vectors for training, test, and validation purposes."
      ]
    },
    {
      "cell_type": "code",
      "metadata": {
        "id": "tRdVZQY9_Lct",
        "outputId": "703d7b0b-1273-4983-ef27-1642583cb937",
        "colab": {
          "base_uri": "https://localhost:8080/",
          "height": 72
        }
      },
      "source": [
        "# reshape images to contain dimensions into a single vector\n",
        "train_img = train_images.reshape(train_images.shape[0], -1)\n",
        "test_img = test_images.reshape(test_images.shape[0], -1)\n",
        "val_img = val_images.reshape(val_images.shape[0], -1)\n",
        "\n",
        "print(train_img.shape)\n",
        "print(test_img.shape)\n",
        "print(val_img.shape)"
      ],
      "execution_count": 10,
      "outputs": [
        {
          "output_type": "stream",
          "text": [
            "(1000, 196608)\n",
            "(200, 196608)\n",
            "(16, 196608)\n"
          ],
          "name": "stdout"
        }
      ]
    },
    {
      "cell_type": "code",
      "metadata": {
        "id": "pB0u8UUT_Lcw"
      },
      "source": [
        "# reshape images to contain dimensions into a single vector\n",
        "train_y = np.reshape(train_labels[:,0], (1000,1))\n",
        "test_y = np.reshape(test_labels[:,0], (200,1))\n",
        "val_y = np.reshape(val_labels[:,0], (16,1))"
      ],
      "execution_count": 11,
      "outputs": []
    },
    {
      "cell_type": "markdown",
      "metadata": {
        "id": "hZ1vQUDj_Lc-"
      },
      "source": [
        "Now that we've cleaned the data and reshaped the dimensions to fit into individual vectors, we can move on to identifying the existing labels for your test and training images. Ideally, we'll find a binary classification that classified images as \"Normal\"or as \"Pneumonia\". If any other labels exists, we can examine the data.\n",
        "\n",
        "If a third label exists, we will further examine whether or not those labels include pneumonial examples that work for the purposes of this model."
      ]
    },
    {
      "cell_type": "code",
      "metadata": {
        "id": "zX-QCvRi_Lc_",
        "outputId": "26858bb1-4868-41cf-e101-e05c1dd5fd7f",
        "colab": {
          "base_uri": "https://localhost:8080/",
          "height": 145
        }
      },
      "source": [
        "#preview label to identify class valujes\n",
        "train_labels"
      ],
      "execution_count": 12,
      "outputs": [
        {
          "output_type": "execute_result",
          "data": {
            "text/plain": [
              "array([[1., 0.],\n",
              "       [0., 1.],\n",
              "       [1., 0.],\n",
              "       ...,\n",
              "       [0., 1.],\n",
              "       [1., 0.],\n",
              "       [1., 0.]], dtype=float32)"
            ]
          },
          "metadata": {
            "tags": []
          },
          "execution_count": 12
        }
      ]
    },
    {
      "cell_type": "code",
      "metadata": {
        "id": "XPKHTu4D_LdE",
        "outputId": "8fa8496f-ca89-4f2c-d935-73837fb05923",
        "colab": {
          "base_uri": "https://localhost:8080/",
          "height": 35
        }
      },
      "source": [
        "#identify the categorical values of 0 and 1\n",
        "train_generator.class_indices"
      ],
      "execution_count": 13,
      "outputs": [
        {
          "output_type": "execute_result",
          "data": {
            "text/plain": [
              "{'NORMAL': 0, 'PNEUMONIA': 1}"
            ]
          },
          "metadata": {
            "tags": []
          },
          "execution_count": 13
        }
      ]
    },
    {
      "cell_type": "code",
      "metadata": {
        "id": "dwFkqzOP_LdH",
        "outputId": "36870063-57bd-4449-8f1c-7076e1054c22",
        "colab": {
          "base_uri": "https://localhost:8080/",
          "height": 35
        }
      },
      "source": [
        "train_labels_final = train_labels.T[[1]]\n",
        "np.shape(train_labels_final)"
      ],
      "execution_count": 14,
      "outputs": [
        {
          "output_type": "execute_result",
          "data": {
            "text/plain": [
              "(1, 1000)"
            ]
          },
          "metadata": {
            "tags": []
          },
          "execution_count": 14
        }
      ]
    },
    {
      "cell_type": "code",
      "metadata": {
        "id": "auNGlRLB_LdK",
        "outputId": "489bdc40-a02a-47b6-c810-f9d7f983b6df",
        "colab": {
          "base_uri": "https://localhost:8080/",
          "height": 35
        }
      },
      "source": [
        "test_labels_final = test_labels.T[[1]]\n",
        "np.shape(test_labels_final)\n"
      ],
      "execution_count": 15,
      "outputs": [
        {
          "output_type": "execute_result",
          "data": {
            "text/plain": [
              "(1, 200)"
            ]
          },
          "metadata": {
            "tags": []
          },
          "execution_count": 15
        }
      ]
    },
    {
      "cell_type": "code",
      "metadata": {
        "id": "d1Shexfb_LdM"
      },
      "source": [
        "# array_to_img(train_images[135])\n"
      ],
      "execution_count": 16,
      "outputs": []
    },
    {
      "cell_type": "code",
      "metadata": {
        "id": "Mei5RcBT_LdQ"
      },
      "source": [
        "# train_labels_final[:,135]"
      ],
      "execution_count": 17,
      "outputs": []
    },
    {
      "cell_type": "markdown",
      "metadata": {
        "id": "YZJ2nP3y_LdT"
      },
      "source": [
        "Recap: We've now idenitified our two categories: Normal and Pneumonia, represented by 0 and 1, respectively. Our images were successfully resized and ready to go through our base model. We double checked that all of our training and testing images fit the our categorical labels and there's no extraneous categories that might skew the model results."
      ]
    },
    {
      "cell_type": "markdown",
      "metadata": {
        "id": "8d6VlAbG_LfL"
      },
      "source": [
        "## CNN Model"
      ]
    },
    {
      "cell_type": "code",
      "metadata": {
        "scrolled": true,
        "id": "s-PCbDXr_LfM",
        "outputId": "276d9406-28de-499e-b73d-d37378577889",
        "colab": {
          "base_uri": "https://localhost:8080/",
          "height": 454
        }
      },
      "source": [
        "model = models.Sequential()\n",
        "model.add(layers.Conv2D(32, (3, 3), activation='relu',\n",
        "                        input_shape=(256 , 256,  3)))\n",
        "model.add(layers.MaxPooling2D((2, 2)))\n",
        "\n",
        "model.add(layers.Dropout(.2))\n",
        "model.add(layers.Conv2D(32, (4, 4), activation='relu'))\n",
        "model.add(layers.MaxPooling2D((2, 2)))\n",
        "\n",
        "# model.add(layers.Conv2D(64, (3, 3), activation='relu'))\n",
        "# model.add(layers.MaxPooling2D((2, 2)))\n",
        "model.add(layers.Dropout(.2))\n",
        "model.add(layers.Flatten())\n",
        "# model.add(layers.Dense(64, activation='relu'))\n",
        "model.add(layers.Dense(1, activation='sigmoid'))\n",
        "\n",
        "model.compile(loss='binary_crossentropy',\n",
        "              optimizer='sgd',\n",
        "              metrics=['acc'])\n",
        "\n",
        "model.summary()"
      ],
      "execution_count": 18,
      "outputs": [
        {
          "output_type": "stream",
          "text": [
            "Model: \"sequential\"\n",
            "_________________________________________________________________\n",
            "Layer (type)                 Output Shape              Param #   \n",
            "=================================================================\n",
            "conv2d (Conv2D)              (None, 254, 254, 32)      896       \n",
            "_________________________________________________________________\n",
            "max_pooling2d (MaxPooling2D) (None, 127, 127, 32)      0         \n",
            "_________________________________________________________________\n",
            "dropout (Dropout)            (None, 127, 127, 32)      0         \n",
            "_________________________________________________________________\n",
            "conv2d_1 (Conv2D)            (None, 124, 124, 32)      16416     \n",
            "_________________________________________________________________\n",
            "max_pooling2d_1 (MaxPooling2 (None, 62, 62, 32)        0         \n",
            "_________________________________________________________________\n",
            "dropout_1 (Dropout)          (None, 62, 62, 32)        0         \n",
            "_________________________________________________________________\n",
            "flatten (Flatten)            (None, 123008)            0         \n",
            "_________________________________________________________________\n",
            "dense (Dense)                (None, 1)                 123009    \n",
            "=================================================================\n",
            "Total params: 140,321\n",
            "Trainable params: 140,321\n",
            "Non-trainable params: 0\n",
            "_________________________________________________________________\n"
          ],
          "name": "stdout"
        }
      ]
    },
    {
      "cell_type": "code",
      "metadata": {
        "id": "GCN9U7t2_LfO",
        "outputId": "ef25aae3-7f2e-40e2-ca76-c70e008578b0",
        "colab": {
          "base_uri": "https://localhost:8080/",
          "height": 381
        }
      },
      "source": [
        "history = model.fit(train_images,\n",
        "                    train_y,\n",
        "                    epochs=10,\n",
        "                    batch_size=100,\n",
        "                    validation_data=(val_images, val_y))"
      ],
      "execution_count": 19,
      "outputs": [
        {
          "output_type": "stream",
          "text": [
            "Epoch 1/10\n",
            "10/10 [==============================] - 42s 4s/step - loss: 1.0275 - acc: 0.5090 - val_loss: 0.6909 - val_acc: 0.6250\n",
            "Epoch 2/10\n",
            "10/10 [==============================] - 42s 4s/step - loss: 0.6897 - acc: 0.5470 - val_loss: 0.6898 - val_acc: 0.6875\n",
            "Epoch 3/10\n",
            "10/10 [==============================] - 42s 4s/step - loss: 0.6787 - acc: 0.6150 - val_loss: 0.6871 - val_acc: 0.6875\n",
            "Epoch 4/10\n",
            "10/10 [==============================] - 42s 4s/step - loss: 0.6671 - acc: 0.6220 - val_loss: 0.6831 - val_acc: 0.5000\n",
            "Epoch 5/10\n",
            "10/10 [==============================] - 42s 4s/step - loss: 0.6964 - acc: 0.5810 - val_loss: 0.6863 - val_acc: 0.5000\n",
            "Epoch 6/10\n",
            "10/10 [==============================] - 41s 4s/step - loss: 0.6510 - acc: 0.6670 - val_loss: 0.6752 - val_acc: 0.6250\n",
            "Epoch 7/10\n",
            "10/10 [==============================] - 42s 4s/step - loss: 0.6238 - acc: 0.6900 - val_loss: 0.6652 - val_acc: 0.5625\n",
            "Epoch 8/10\n",
            "10/10 [==============================] - 42s 4s/step - loss: 0.6002 - acc: 0.6550 - val_loss: 0.7037 - val_acc: 0.5625\n",
            "Epoch 9/10\n",
            "10/10 [==============================] - 42s 4s/step - loss: 0.6468 - acc: 0.6970 - val_loss: 0.6498 - val_acc: 0.6250\n",
            "Epoch 10/10\n",
            "10/10 [==============================] - 42s 4s/step - loss: 0.5998 - acc: 0.6730 - val_loss: 0.6511 - val_acc: 0.6250\n"
          ],
          "name": "stdout"
        }
      ]
    },
    {
      "cell_type": "code",
      "metadata": {
        "id": "PwZBguJ2_LfS",
        "outputId": "90021b23-3b68-4569-a3a7-48e52d2cd250",
        "colab": {
          "base_uri": "https://localhost:8080/",
          "height": 35
        }
      },
      "source": [
        "results_train = model.evaluate(train_images, train_y)"
      ],
      "execution_count": 20,
      "outputs": [
        {
          "output_type": "stream",
          "text": [
            "32/32 [==============================] - 11s 350ms/step - loss: 0.6057 - acc: 0.8180\n"
          ],
          "name": "stdout"
        }
      ]
    },
    {
      "cell_type": "code",
      "metadata": {
        "id": "SUWHjJPe_LfT",
        "outputId": "4a7f790e-67dc-41cd-a85f-a9f65f725f50",
        "colab": {
          "base_uri": "https://localhost:8080/",
          "height": 35
        }
      },
      "source": [
        "results_test = model.evaluate(test_images, test_y)"
      ],
      "execution_count": 21,
      "outputs": [
        {
          "output_type": "stream",
          "text": [
            "7/7 [==============================] - 2s 277ms/step - loss: 0.6086 - acc: 0.7700\n"
          ],
          "name": "stdout"
        }
      ]
    },
    {
      "cell_type": "code",
      "metadata": {
        "id": "SgNI62eK_LfX",
        "outputId": "c175db03-4b36-4a8a-ec4d-e2e0150a70d7",
        "colab": {
          "base_uri": "https://localhost:8080/",
          "height": 35
        }
      },
      "source": [
        "results_train"
      ],
      "execution_count": 22,
      "outputs": [
        {
          "output_type": "execute_result",
          "data": {
            "text/plain": [
              "[0.6057247519493103, 0.8180000185966492]"
            ]
          },
          "metadata": {
            "tags": []
          },
          "execution_count": 22
        }
      ]
    },
    {
      "cell_type": "code",
      "metadata": {
        "id": "GyypMRDN_LfZ",
        "outputId": "d141cd37-7ca7-478a-94b7-0044537febfd",
        "colab": {
          "base_uri": "https://localhost:8080/",
          "height": 35
        }
      },
      "source": [
        "results_test"
      ],
      "execution_count": 23,
      "outputs": [
        {
          "output_type": "execute_result",
          "data": {
            "text/plain": [
              "[0.6085917949676514, 0.7699999809265137]"
            ]
          },
          "metadata": {
            "tags": []
          },
          "execution_count": 23
        }
      ]
    },
    {
      "cell_type": "code",
      "metadata": {
        "scrolled": false,
        "id": "4BeK44Zz_Lfb",
        "outputId": "a331ab75-fa70-4fbb-a4de-335ea85bee8f",
        "colab": {
          "base_uri": "https://localhost:8080/",
          "height": 573
        }
      },
      "source": [
        "def visualize_training_results(results):\n",
        "    history = results.history\n",
        "    plt.figure()\n",
        "    plt.plot(history['val_loss'])\n",
        "    plt.plot(history['loss'])\n",
        "    plt.legend(['val_loss', 'loss'])\n",
        "    plt.title('Loss')\n",
        "    plt.xlabel('Epochs')\n",
        "    plt.ylabel('Loss')\n",
        "    plt.show()\n",
        "    \n",
        "    plt.figure()\n",
        "    plt.plot(history['val_acc'])\n",
        "    plt.plot(history['acc'])\n",
        "    plt.legend(['val_acc', 'acc'])\n",
        "    plt.title('Accuracy')\n",
        "    plt.xlabel('Epochs')\n",
        "    plt.ylabel('Accuracy')\n",
        "    plt.show()\n",
        "\n",
        "visualize_training_results(history)"
      ],
      "execution_count": 24,
      "outputs": [
        {
          "output_type": "display_data",
          "data": {
            "image/png": "[encoded data removed]",
            "text/plain": [
              "<Figure size 432x288 with 1 Axes>"
            ]
          },
          "metadata": {
            "tags": [],
            "needs_background": "light"
          }
        },
        {
          "output_type": "display_data",
          "data": {
            "image/png": "[encoded data removed]",
            "text/plain": [
              "<Figure size 432x288 with 1 Axes>"
            ]
          },
          "metadata": {
            "tags": [],
            "needs_background": "light"
          }
        }
      ]
    },
    {
      "cell_type": "code",
      "metadata": {
        "id": "kDWKOhEnxr3Q",
        "outputId": "8ada2477-91eb-40d0-cc20-6fc1fc50ef55",
        "colab": {
          "base_uri": "https://localhost:8080/",
          "height": 181
        }
      },
      "source": [
        "from sklearn.metrics import classification_report, confusion_matrix\n",
        "\n",
        "y_pred = model.predict(test_images, batch_size=64)\n",
        "y_pred_bool = np.argmax(y_pred, axis=1)\n",
        "\n",
        "print(classification_report(test_y, y_pred_bool))"
      ],
      "execution_count": 25,
      "outputs": [
        {
          "output_type": "stream",
          "text": [
            "              precision    recall  f1-score   support\n",
            "\n",
            "         0.0       0.57      1.00      0.73       114\n",
            "         1.0       0.00      0.00      0.00        86\n",
            "\n",
            "    accuracy                           0.57       200\n",
            "   macro avg       0.28      0.50      0.36       200\n",
            "weighted avg       0.32      0.57      0.41       200\n",
            "\n"
          ],
          "name": "stdout"
        }
      ]
    },
    {
      "cell_type": "code",
      "metadata": {
        "id": "2EqzgLr7xuW5",
        "outputId": "501f1001-efe2-449a-98fe-b3fb682164a5",
        "colab": {
          "base_uri": "https://localhost:8080/",
          "height": 54
        }
      },
      "source": [
        "confusion_matrix(test_y, y_pred_bool)"
      ],
      "execution_count": 26,
      "outputs": [
        {
          "output_type": "execute_result",
          "data": {
            "text/plain": [
              "array([[114,   0],\n",
              "       [ 86,   0]])"
            ]
          },
          "metadata": {
            "tags": []
          },
          "execution_count": 26
        }
      ]
    },
    {
      "cell_type": "code",
      "metadata": {
        "id": "iQajuQ39xxQc",
        "outputId": "edc86c42-ca8c-4b17-98a2-ef4616d60e6b",
        "colab": {
          "base_uri": "https://localhost:8080/",
          "height": 338
        }
      },
      "source": [
        "import pandas as pd\n",
        "import seaborn as sns\n",
        "\n",
        "confusion_matrix_df = pd.DataFrame(confusion_matrix(test_y, y_pred_bool)).rename(columns=train_generator.class_indices, index=train_generator.class_indices)\n",
        "fig, ax = plt.subplots(figsize=(7,5))         \n",
        "sns.heatmap(confusion_matrix_df, annot=True, ax=ax)"
      ],
      "execution_count": 27,
      "outputs": [
        {
          "output_type": "execute_result",
          "data": {
            "text/plain": [
              "<matplotlib.axes._subplots.AxesSubplot at 0x7f0d9378b128>"
            ]
          },
          "metadata": {
            "tags": []
          },
          "execution_count": 27
        },
        {
          "output_type": "display_data",
          "data": {
            "image/png": "[encoded data removed]",
            "text/plain": [
              "<Figure size 504x360 with 2 Axes>"
            ]
          },
          "metadata": {
            "tags": [],
            "needs_background": "light"
          }
        }
      ]
    },
    {
      "cell_type": "code",
      "metadata": {
        "id": "tlfrK8BU6jsf"
      },
      "source": [
        ""
      ],
      "execution_count": 27,
      "outputs": []
    },
    {
      "cell_type": "markdown",
      "metadata": {
        "id": "l0UbV56T_Lfd"
      },
      "source": [
        "We saw an increase in accuracy in our training results, now with a 98% accuracy and .058 loss, but we saw no change in our test results. Judging by our visualizations, however, we did see that our model more gradually improved at testing went on (up to 20 epochs), in comparison to our previous models. Instead of sharp increases and maximum plateaus, we saw more gradual increases with plateaus in accuracy occuring in decreases of accuracy verus increases."
      ]
    },
    {
      "cell_type": "markdown",
      "metadata": {
        "id": "zYX3h4JQ_Lfd"
      },
      "source": [
        "## Conclusion\n",
        "\n",
        "Through all of our models, we saw minimum increases in test models, even though we did maintain a 4-6% increase in accuracy outside of our base model. While the results didn't change much, the visualizations did give us some insight on what happened in the model. Each of the non-CNN models hit a repeated ceiling in accuracy where the results plateaued for a few epochs befor a signfinicant drop, mirrored by a sigificant increase in error rate. The CNN model showed more gradual increases in the testing model results, versus the steep increases in accuracy followed by a plateau and steep drops we saw earlier.\n",
        "\n",
        "Whether or not this accuracy plateau was due to the data quality, sample sizes, or issues in how the models were created is unknown. Trying additional CNN methods might help address this issue so we can produce more accurate results"
      ]
    },
    {
      "cell_type": "code",
      "metadata": {
        "id": "FklHUi3I_Lfd"
      },
      "source": [
        ""
      ],
      "execution_count": 27,
      "outputs": []
    }
  ]
}